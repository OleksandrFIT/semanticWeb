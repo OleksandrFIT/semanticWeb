{
 "cells": [
  {
   "cell_type": "code",
   "execution_count": 54,
   "id": "a45f5b26",
   "metadata": {},
   "outputs": [],
   "source": [
    "from rdflib import Graph\n",
    "\n",
    "# Завантажте граф з файлу TTL\n",
    "g = Graph()\n",
    "g.parse(\"countrues_info.ttl\", format=\"turtle\")\n",
    "\n",
    "# Складіть SPARQL-запит\n",
    "query = \"\"\"\n",
    "SELECT ?countryName\n",
    "WHERE {\n",
    "  ?country a :Country ;\n",
    "           rdfs:label ?countryName ;\n",
    "           :uses_currency :Currency/USD .\n",
    "  FILTER (langMatches(lang(?countryName), \"en\"))\n",
    "}\n",
    "\"\"\"\n",
    "\n",
    "results = g.query(query).convert()\n",
    "\n",
    "for row in results:\n",
    "    country_name = row.countryName\n",
    "    print(country_name)"
   ]
  },
  {
   "cell_type": "code",
   "execution_count": null,
   "id": "4f3ccfa8",
   "metadata": {},
   "outputs": [],
   "source": []
  }
 ],
 "metadata": {
  "kernelspec": {
   "display_name": "Python 3 (ipykernel)",
   "language": "python",
   "name": "python3"
  },
  "language_info": {
   "codemirror_mode": {
    "name": "ipython",
    "version": 3
   },
   "file_extension": ".py",
   "mimetype": "text/x-python",
   "name": "python",
   "nbconvert_exporter": "python",
   "pygments_lexer": "ipython3",
   "version": "3.11.3"
  }
 },
 "nbformat": 4,
 "nbformat_minor": 5
}
